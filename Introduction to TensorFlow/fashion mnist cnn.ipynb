{
 "cells": [
  {
   "cell_type": "markdown",
   "metadata": {
    "colab_type": "text",
    "id": "SkXRvnEMOEuS"
   },
   "source": [
    "# Introduction\n",
    "Project available at https://github.com/zalandoresearch/fashion-mnist"
   ]
  },
  {
   "cell_type": "code",
   "execution_count": 0,
   "metadata": {
    "colab": {
     "base_uri": "https://localhost:8080/",
     "height": 34
    },
    "colab_type": "code",
    "id": "tsyBTxTxOEuW",
    "outputId": "de7877bf-e74e-4cc4-bfb3-7a5fa20f8f2f"
   },
   "outputs": [
    {
     "name": "stderr",
     "output_type": "stream",
     "text": [
      "Using TensorFlow backend.\n"
     ]
    }
   ],
   "source": [
    "import tensorflow as tf\n",
    "from keras.utils import to_categorical"
   ]
  },
  {
   "cell_type": "code",
   "execution_count": 0,
   "metadata": {
    "colab": {
     "base_uri": "https://localhost:8080/",
     "height": 153
    },
    "colab_type": "code",
    "id": "cuqCpynJOEuf",
    "outputId": "89383f84-5d1e-4813-a5a9-f8eafdfd0698"
   },
   "outputs": [
    {
     "name": "stdout",
     "output_type": "stream",
     "text": [
      "Downloading data from https://storage.googleapis.com/tensorflow/tf-keras-datasets/train-labels-idx1-ubyte.gz\n",
      "32768/29515 [=================================] - 0s 0us/step\n",
      "Downloading data from https://storage.googleapis.com/tensorflow/tf-keras-datasets/train-images-idx3-ubyte.gz\n",
      "26427392/26421880 [==============================] - 0s 0us/step\n",
      "Downloading data from https://storage.googleapis.com/tensorflow/tf-keras-datasets/t10k-labels-idx1-ubyte.gz\n",
      "8192/5148 [===============================================] - 0s 0us/step\n",
      "Downloading data from https://storage.googleapis.com/tensorflow/tf-keras-datasets/t10k-images-idx3-ubyte.gz\n",
      "4423680/4422102 [==============================] - 0s 0us/step\n"
     ]
    }
   ],
   "source": [
    "fashion_mnist = tf.keras.datasets.fashion_mnist\n",
    "\n",
    "(train_images, train_labels), (test_images, test_labels) = fashion_mnist.load_data()"
   ]
  },
  {
   "cell_type": "code",
   "execution_count": 0,
   "metadata": {
    "colab": {
     "base_uri": "https://localhost:8080/",
     "height": 269
    },
    "colab_type": "code",
    "id": "9BQsZjmhOEuj",
    "outputId": "b3954173-f2da-49e7-8dfb-9c542a160831"
   },
   "outputs": [
    {
     "data": {
      "image/png": "[encoded data removed]",
      "text/plain": [
       "<Figure size 432x288 with 1 Axes>"
      ]
     },
     "metadata": {
      "tags": []
     },
     "output_type": "display_data"
    }
   ],
   "source": [
    "import matplotlib.pyplot as plt\n",
    "%matplotlib inline\n",
    "plt.imshow(train_images[100])\n",
    "plt.show()"
   ]
  },
  {
   "cell_type": "code",
   "execution_count": 0,
   "metadata": {
    "colab": {},
    "colab_type": "code",
    "id": "6Mo9kf1GOEun"
   },
   "outputs": [],
   "source": [
    "train_labels = to_categorical(train_labels)\n",
    "test_labels = to_categorical(test_labels)\n",
    "train_images_scaled = train_images /255\n",
    "test_images_scaled = test_images /255\n",
    "train_images_scaled = train_images_scaled.reshape(60000,28,28,1)\n",
    "test_images_scaled = test_images_scaled.reshape(10000,28,28,1)"
   ]
  },
  {
   "cell_type": "code",
   "execution_count": 0,
   "metadata": {
    "colab": {
     "base_uri": "https://localhost:8080/",
     "height": 479
    },
    "colab_type": "code",
    "id": "UyFz3gEhOEup",
    "outputId": "37343166-0757-47a9-92cc-cfdfc9e6eeb0"
   },
   "outputs": [
    {
     "name": "stderr",
     "output_type": "stream",
     "text": [
      "WARNING: Logging before flag parsing goes to stderr.\n",
      "W0707 16:16:37.504084 140610204755840 deprecation.py:506] From /usr/local/lib/python3.6/dist-packages/tensorflow/python/ops/init_ops.py:1251: calling VarianceScaling.__init__ (from tensorflow.python.ops.init_ops) with dtype is deprecated and will be removed in a future version.\n",
      "Instructions for updating:\n",
      "Call initializer instance with the dtype argument instead of passing it to the constructor\n"
     ]
    },
    {
     "name": "stdout",
     "output_type": "stream",
     "text": [
      "Model: \"sequential\"\n",
      "_________________________________________________________________\n",
      "Layer (type)                 Output Shape              Param #   \n",
      "=================================================================\n",
      "conv2d (Conv2D)              (None, 26, 26, 64)        640       \n",
      "_________________________________________________________________\n",
      "max_pooling2d (MaxPooling2D) (None, 13, 13, 64)        0         \n",
      "_________________________________________________________________\n",
      "conv2d_1 (Conv2D)            (None, 11, 11, 64)        36928     \n",
      "_________________________________________________________________\n",
      "max_pooling2d_1 (MaxPooling2 (None, 5, 5, 64)          0         \n",
      "_________________________________________________________________\n",
      "flatten (Flatten)            (None, 1600)              0         \n",
      "_________________________________________________________________\n",
      "dense (Dense)                (None, 128)               204928    \n",
      "_________________________________________________________________\n",
      "dense_1 (Dense)              (None, 10)                1290      \n",
      "=================================================================\n",
      "Total params: 243,786\n",
      "Trainable params: 243,786\n",
      "Non-trainable params: 0\n",
      "_________________________________________________________________\n"
     ]
    }
   ],
   "source": [
    "model = tf.keras.models.Sequential ()\n",
    "model.add(tf.keras.layers.Conv2D(64, 3, activation=tf.nn.relu, input_shape=(28,28,1)))\n",
    "model.add(tf.keras.layers.MaxPool2D(pool_size=(2,2)))\n",
    "model.add(tf.keras.layers.Conv2D(64, 3, activation=tf.nn.relu, input_shape=(28,28,1)))\n",
    "model.add(tf.keras.layers.MaxPool2D(pool_size=(2,2)))\n",
    "model.add(tf.keras.layers.Flatten())\n",
    "model.add(tf.keras.layers.Dense(128, activation=tf.nn.relu))\n",
    "model.add(tf.keras.layers.Dense(10, activation=tf.nn.softmax))\n",
    "\n",
    "model.compile(optimizer=tf.train.AdamOptimizer(), loss='categorical_crossentropy', metrics=['accuracy'])\n",
    "model.summary()"
   ]
  },
  {
   "cell_type": "code",
   "execution_count": 0,
   "metadata": {
    "colab": {
     "base_uri": "https://localhost:8080/",
     "height": 442
    },
    "colab_type": "code",
    "id": "N35k0iiEOEus",
    "outputId": "b4c66701-5d73-4d4f-85cb-2d053931849b"
   },
   "outputs": [
    {
     "name": "stdout",
     "output_type": "stream",
     "text": [
      "Epoch 1/25\n",
      "60000/60000 [==============================] - 10s 165us/sample - loss: 0.4352 - acc: 0.8417\n",
      "Epoch 2/25\n",
      "60000/60000 [==============================] - 7s 110us/sample - loss: 0.2919 - acc: 0.8937\n",
      "Epoch 3/25\n",
      "60000/60000 [==============================] - 7s 109us/sample - loss: 0.2479 - acc: 0.9091\n",
      "Epoch 4/25\n",
      "60000/60000 [==============================] - 7s 109us/sample - loss: 0.2174 - acc: 0.9208\n",
      "Epoch 5/25\n",
      "60000/60000 [==============================] - 7s 108us/sample - loss: 0.1907 - acc: 0.9290\n",
      "Epoch 6/25\n",
      "60000/60000 [==============================] - 6s 106us/sample - loss: 0.1685 - acc: 0.9370\n",
      "Epoch 7/25\n",
      "60000/60000 [==============================] - 6s 106us/sample - loss: 0.1475 - acc: 0.9448\n",
      "Epoch 8/25\n",
      "60000/60000 [==============================] - 6s 107us/sample - loss: 0.1296 - acc: 0.9504\n",
      "Epoch 9/25\n",
      "60000/60000 [==============================] - 6s 106us/sample - loss: 0.1134 - acc: 0.9577\n",
      "Epoch 10/25\n",
      "60000/60000 [==============================] - 6s 108us/sample - loss: 0.1006 - acc: 0.9618\n",
      "Epoch 11/25\n",
      "59872/60000 [============================>.] - ETA: 0s - loss: 0.0867 - acc: 0.9667Loss reduced substantially, stopping training\n",
      "60000/60000 [==============================] - 6s 106us/sample - loss: 0.0868 - acc: 0.9667\n",
      "10000/10000 [==============================] - 1s 70us/sample - loss: 0.3263 - acc: 0.9149\n"
     ]
    },
    {
     "data": {
      "text/plain": [
       "[0.3263276228234172, 0.9149]"
      ]
     },
     "execution_count": 7,
     "metadata": {
      "tags": []
     },
     "output_type": "execute_result"
    }
   ],
   "source": [
    "class my_callback (tf.keras.callbacks.Callback) :\n",
    "    def on_epoch_end (self, epoch, logs={}):\n",
    "        if (logs.get('loss')<0.1):\n",
    "            print ('Loss reduced substantially, stopping training')\n",
    "            self.model.stop_training=True\n",
    "            \n",
    "callback = my_callback()\n",
    "model.fit (train_images_scaled, train_labels, epochs=25, callbacks=[callback])\n",
    "model.evaluate(test_images_scaled, test_labels)"
   ]
  },
  {
   "cell_type": "code",
   "execution_count": 0,
   "metadata": {
    "colab": {},
    "colab_type": "code",
    "id": "WyBoqYrDOoyP"
   },
   "outputs": [],
   "source": []
  },
  {
   "cell_type": "code",
   "execution_count": 0,
   "metadata": {
    "colab": {},
    "colab_type": "code",
    "id": "M1afoIW6OEuv",
    "outputId": "1479e4a2-4155-4790-eb8e-43846344fcba"
   },
   "outputs": [
    {
     "name": "stdout",
     "output_type": "stream",
     "text": [
      "[[0. 0. 0. 0. 1. 0. 0. 0. 0. 0.]]\n",
      "[0. 0. 0. 0. 1. 0. 0. 0. 0. 0.]\n"
     ]
    }
   ],
   "source": [
    "print (model.predict(test_images[10].reshape(1, 28,28)))\n",
    "print (test_labels[10])"
   ]
  },
  {
   "cell_type": "code",
   "execution_count": 0,
   "metadata": {
    "colab": {},
    "colab_type": "code",
    "id": "puMOQGZNOEux"
   },
   "outputs": [],
   "source": []
  },
  {
   "cell_type": "code",
   "execution_count": 0,
   "metadata": {
    "colab": {},
    "colab_type": "code",
    "id": "wL2hMfHSOEuz"
   },
   "outputs": [],
   "source": []
  }
 ],
 "metadata": {
  "accelerator": "GPU",
  "colab": {
   "collapsed_sections": [],
   "name": "fashion mnist cnn.ipynb",
   "provenance": [],
   "version": "0.3.2"
  },
  "kernelspec": {
   "display_name": "Python 3",
   "language": "python",
   "name": "python3"
  },
  "language_info": {
   "codemirror_mode": {
    "name": "ipython",
    "version": 3
   },
   "file_extension": ".py",
   "mimetype": "text/x-python",
   "name": "python",
   "nbconvert_exporter": "python",
   "pygments_lexer": "ipython3",
   "version": "3.7.3"
  }
 },
 "nbformat": 4,
 "nbformat_minor": 1
}
