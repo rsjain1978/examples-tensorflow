{
 "cells": [
  {
   "cell_type": "markdown",
   "metadata": {},
   "source": [
    "# Image representation as Tensor\n",
    "\n",
    "    An image could be represented as a tensor of rank 4 as follows:\n",
    "        image = Tensor(B,H,W,C) where\n",
    "        B is the batch of images, number of images\n",
    "        H is the height of an image in pixels\n",
    "        W is the width of an image in pixels \n",
    "        C is the color channel of an image (this would be 1 for Grayscale image and 3 for RGB image)"
   ]
  },
  {
   "cell_type": "markdown",
   "metadata": {},
   "source": []
  },
  {
   "cell_type": "code",
   "execution_count": null,
   "metadata": {},
   "outputs": [],
   "source": []
  }
 ],
 "metadata": {
  "kernelspec": {
   "display_name": "Python 3",
   "language": "python",
   "name": "python3"
  },
  "language_info": {
   "codemirror_mode": {
    "name": "ipython",
    "version": 3
   },
   "file_extension": ".py",
   "mimetype": "text/x-python",
   "name": "python",
   "nbconvert_exporter": "python",
   "pygments_lexer": "ipython3",
   "version": "3.7.3"
  }
 },
 "nbformat": 4,
 "nbformat_minor": 2
}
